{
  "nbformat": 4,
  "nbformat_minor": 0,
  "metadata": {
    "colab": {
      "name": "CrossLanguageEmbeddings.ipynb",
      "provenance": []
    },
    "kernelspec": {
      "name": "python3",
      "display_name": "Python 3"
    }
  },
  "cells": [
    {
      "cell_type": "markdown",
      "metadata": {
        "id": "oDsn_Motja8Q"
      },
      "source": [
        "# Cross-Language Word Embeddings\n",
        "\n",
        "In class, we discussed how we can reduce the dimensionality of word representations from their original vector space to an embedding space on the order of a few hundred dimensions. Different modeling choices for word embeddings may be ultimately evaluated by the effectiveness of classification or retrieval models.\n",
        "\n",
        "In this assignment, however, we will consider another common method of evaluating word embeddings: by judging the usefulness of pairwise distances between words in the embedding space.\n",
        "\n",
        "Follow along with the examples in this notebook, and implement the sections of code flagged with **TODO**."
      ]
    },
    {
      "cell_type": "code",
      "metadata": {
        "id": "UKm5cPMQ2xHU"
      },
      "source": [
        "import gensim\n",
        "import numpy as np\n",
        "from gensim.test.utils import datapath, get_tmpfile\n",
        "from gensim.models import Word2Vec\n",
        "from gensim.models.word2vec import LineSentence"
      ],
      "execution_count": 1,
      "outputs": []
    },
    {
      "cell_type": "markdown",
      "metadata": {
        "id": "sfKjYFDklB4c"
      },
      "source": [
        "We'll start by downloading a plain-text version of the plays of William Shakespeare."
      ]
    },
    {
      "cell_type": "code",
      "metadata": {
        "id": "Dw3bvl1yf5FB",
        "outputId": "9a925422-3cd8-4614-a56a-7cc46a8c629f",
        "colab": {
          "base_uri": "https://localhost:8080/"
        }
      },
      "source": [
        "!wget http://www.ccs.neu.edu/home/dasmith/courses/cs6200/shakespeare_plays.txt\n",
        "lines = [s.split() for s in open('shakespeare_plays.txt')]"
      ],
      "execution_count": 2,
      "outputs": [
        {
          "output_type": "stream",
          "name": "stdout",
          "text": [
            "--2022-04-15 19:01:24--  http://www.ccs.neu.edu/home/dasmith/courses/cs6200/shakespeare_plays.txt\n",
            "Resolving www.ccs.neu.edu (www.ccs.neu.edu)... 52.70.229.197\n",
            "Connecting to www.ccs.neu.edu (www.ccs.neu.edu)|52.70.229.197|:80... connected.\n",
            "HTTP request sent, awaiting response... 301 Moved Permanently\n",
            "Location: https://www.ccs.neu.edu/home/dasmith/courses/cs6200/shakespeare_plays.txt [following]\n",
            "--2022-04-15 19:01:25--  https://www.ccs.neu.edu/home/dasmith/courses/cs6200/shakespeare_plays.txt\n",
            "Connecting to www.ccs.neu.edu (www.ccs.neu.edu)|52.70.229.197|:443... connected.\n",
            "HTTP request sent, awaiting response... 200 OK\n",
            "Length: 4746840 (4.5M) [text/plain]\n",
            "Saving to: ‘shakespeare_plays.txt’\n",
            "\n",
            "shakespeare_plays.t 100%[===================>]   4.53M  3.57MB/s    in 1.3s    \n",
            "\n",
            "2022-04-15 19:01:27 (3.57 MB/s) - ‘shakespeare_plays.txt’ saved [4746840/4746840]\n",
            "\n"
          ]
        }
      ]
    },
    {
      "cell_type": "markdown",
      "metadata": {
        "id": "5cZ52pEflKKM"
      },
      "source": [
        "Then, we'll estimate a simple word2vec model on the Shakespeare texts."
      ]
    },
    {
      "cell_type": "code",
      "metadata": {
        "id": "eXT5BNPs_zjM"
      },
      "source": [
        "model = Word2Vec(lines)"
      ],
      "execution_count": 3,
      "outputs": []
    },
    {
      "cell_type": "markdown",
      "metadata": {
        "id": "Fzt3lG1-lw33"
      },
      "source": [
        "Even with such a small training set size, you can perform some standard analogy tasks."
      ]
    },
    {
      "cell_type": "code",
      "metadata": {
        "id": "i4ruAqhKC3-R",
        "outputId": "02d8765c-bb1f-41d6-dc86-0ba8ac0616eb",
        "colab": {
          "base_uri": "https://localhost:8080/"
        }
      },
      "source": [
        "model.wv.most_similar(positive=['king','woman'], negative=['man'])"
      ],
      "execution_count": 4,
      "outputs": [
        {
          "output_type": "execute_result",
          "data": {
            "text/plain": [
              "[('york', 0.7871513962745667),\n",
              " ('queen', 0.7778061628341675),\n",
              " ('prince', 0.7777647376060486),\n",
              " ('clarence', 0.7662815451622009),\n",
              " ('duke', 0.7593518495559692),\n",
              " ('son', 0.728421688079834),\n",
              " ('gloucester', 0.7273623943328857),\n",
              " ('princess', 0.719609797000885),\n",
              " ('cardinal', 0.7134799957275391),\n",
              " ('northumberland', 0.7034063339233398)]"
            ]
          },
          "metadata": {},
          "execution_count": 4
        }
      ]
    },
    {
      "cell_type": "markdown",
      "metadata": {
        "id": "AJL45y5emjA9"
      },
      "source": [
        "In other words, we want a vector close to `king` and `woman` but subtracting the dimensions that are important to `man`, i.e., `queen`. Other words are mostly noble titles important in Shakespeare's \"history\" plays.\n",
        "\n",
        "For the rest of this assignment, we will focus on finding words with similar embeddings, both within and across languages. For example, what words are similar to the name of the title character of *Othello*?"
      ]
    },
    {
      "cell_type": "code",
      "metadata": {
        "id": "1EZGroU0KPyj",
        "outputId": "8c3f4725-7433-4256-fa17-6d7989028c5d",
        "colab": {
          "base_uri": "https://localhost:8080/"
        }
      },
      "source": [
        "model.wv.most_similar(positive=['othello'])\n",
        "#model.wv.most_similar(positive=['brutus'])"
      ],
      "execution_count": 6,
      "outputs": [
        {
          "output_type": "execute_result",
          "data": {
            "text/plain": [
              "[('desdemona', 0.9615752696990967),\n",
              " ('iago', 0.9489233493804932),\n",
              " ('ham', 0.9299837350845337),\n",
              " ('lucio', 0.9185928702354431),\n",
              " ('emilia', 0.9130783677101135),\n",
              " ('cassio', 0.9054528474807739),\n",
              " ('cressida', 0.8995676636695862),\n",
              " ('glou', 0.8972945213317871),\n",
              " ('proteus', 0.897049069404602),\n",
              " ('mrs', 0.895332396030426)]"
            ]
          },
          "metadata": {},
          "execution_count": 6
        }
      ]
    },
    {
      "cell_type": "markdown",
      "metadata": {
        "id": "UM2BT_7zZle3"
      },
      "source": [
        "If you know the play, you might see some familiar names.\n",
        "\n",
        "This search uses cosine similarity. In the default API, you should see the same similarity between the words `othello` and `desdemona` as in the search results above."
      ]
    },
    {
      "cell_type": "code",
      "metadata": {
        "id": "-e32-u4zYFda",
        "outputId": "30d9cc28-e9df-4061-b7db-ec1a8dff7d6d",
        "colab": {
          "base_uri": "https://localhost:8080/"
        }
      },
      "source": [
        "model.wv.similarity('othello', 'desdemona')"
      ],
      "execution_count": 7,
      "outputs": [
        {
          "output_type": "execute_result",
          "data": {
            "text/plain": [
              "0.9615754"
            ]
          },
          "metadata": {},
          "execution_count": 7
        }
      ]
    },
    {
      "cell_type": "markdown",
      "metadata": {
        "id": "c49DwfAmZ6PU"
      },
      "source": [
        "**TODO**: Your **first task**, therefore, is to implement your own cosine similarity function so that you can reuse it outside of the context of the gensim model object."
      ]
    },
    {
      "cell_type": "code",
      "metadata": {
        "id": "rEj2PqpuZ5xs",
        "colab": {
          "base_uri": "https://localhost:8080/"
        },
        "outputId": "454c0d00-8770-423e-c1c8-34a52e28782c"
      },
      "source": [
        "## TODO: Implement cosim\n",
        "\n",
        "from numpy import dot \n",
        "from numpy.linalg import norm \n",
        "def cosim(v1, v2):\n",
        "  ## return cosine similarity between v1 and v2\n",
        "  result = dot(v1, v2)/(norm(v1) * norm(v2))\n",
        "  return result\n",
        "\n",
        "## This should give a result similar to model.wv.similarity:\n",
        "cosim(model.wv['othello'], model.wv['desdemona'])"
      ],
      "execution_count": 8,
      "outputs": [
        {
          "output_type": "execute_result",
          "data": {
            "text/plain": [
              "0.96157545"
            ]
          },
          "metadata": {},
          "execution_count": 8
        }
      ]
    },
    {
      "cell_type": "markdown",
      "metadata": {
        "id": "3TbDqBIHbHfB"
      },
      "source": [
        "## Evaluation\n",
        "\n",
        "We could collect a lot of human judgments about how similar pairs of words, or pairs of Shakespearean characters, are. Then we could compare different word-embedding models by their ability to replicate these human judgments.\n",
        "\n",
        "If we extend our ambition to multiple languages, however, we can use a word translation task to evaluate word embeddings.\n",
        "\n",
        "We will use a subset of [Facebook AI's FastText cross-language embeddings](https://fasttext.cc/docs/en/aligned-vectors.html) for several languages. Your task will be to compare English both to French, and to *one more language* from the following set: Arabic, German, Portuguese, Russian, Spanish, Vietnamese, and Chinese."
      ]
    },
    {
      "cell_type": "code",
      "metadata": {
        "id": "FC_FXRnfq1BO",
        "colab": {
          "base_uri": "https://localhost:8080/"
        },
        "outputId": "91383b58-e8e5-4fac-b3a2-535cb0f00405"
      },
      "source": [
        "!wget http://www.ccs.neu.edu/home/dasmith/courses/cs6200/30k.en.vec\n",
        "!wget http://www.ccs.neu.edu/home/dasmith/courses/cs6200/30k.fr.vec\n",
        "\n",
        "# TODO: uncomment at least one of these to work with another language\n",
        "# !wget http://www.ccs.neu.edu/home/dasmith/courses/cs6200/30k.ar.vec\n",
        "!wget http://www.ccs.neu.edu/home/dasmith/courses/cs6200/30k.de.vec\n",
        "# !wget http://www.ccs.neu.edu/home/dasmith/courses/cs6200/30k.pt.vec\n",
        "# !wget http://www.ccs.neu.edu/home/dasmith/courses/cs6200/30k.ru.vec\n",
        "# !wget http://www.ccs.neu.edu/home/dasmith/courses/cs6200/30k.es.vec\n",
        "# !wget http://www.ccs.neu.edu/home/dasmith/courses/cs6200/30k.vi.vec\n",
        "# !wget http://www.ccs.neu.edu/home/dasmith/courses/cs6200/30k.zh.vec"
      ],
      "execution_count": 10,
      "outputs": [
        {
          "output_type": "stream",
          "name": "stdout",
          "text": [
            "--2022-04-15 19:05:51--  http://www.ccs.neu.edu/home/dasmith/courses/cs6200/30k.en.vec\n",
            "Resolving www.ccs.neu.edu (www.ccs.neu.edu)... 52.70.229.197\n",
            "Connecting to www.ccs.neu.edu (www.ccs.neu.edu)|52.70.229.197|:80... connected.\n",
            "HTTP request sent, awaiting response... 301 Moved Permanently\n",
            "Location: https://www.ccs.neu.edu/home/dasmith/courses/cs6200/30k.en.vec [following]\n",
            "--2022-04-15 19:05:52--  https://www.ccs.neu.edu/home/dasmith/courses/cs6200/30k.en.vec\n",
            "Connecting to www.ccs.neu.edu (www.ccs.neu.edu)|52.70.229.197|:443... connected.\n",
            "HTTP request sent, awaiting response... 200 OK\n",
            "Length: 67681172 (65M)\n",
            "Saving to: ‘30k.en.vec.1’\n",
            "\n",
            "30k.en.vec.1        100%[===================>]  64.54M  14.6MB/s    in 5.6s    \n",
            "\n",
            "2022-04-15 19:05:58 (11.5 MB/s) - ‘30k.en.vec.1’ saved [67681172/67681172]\n",
            "\n",
            "--2022-04-15 19:05:59--  http://www.ccs.neu.edu/home/dasmith/courses/cs6200/30k.fr.vec\n",
            "Resolving www.ccs.neu.edu (www.ccs.neu.edu)... 52.70.229.197\n",
            "Connecting to www.ccs.neu.edu (www.ccs.neu.edu)|52.70.229.197|:80... connected.\n",
            "HTTP request sent, awaiting response... 301 Moved Permanently\n",
            "Location: https://www.ccs.neu.edu/home/dasmith/courses/cs6200/30k.fr.vec [following]\n",
            "--2022-04-15 19:05:59--  https://www.ccs.neu.edu/home/dasmith/courses/cs6200/30k.fr.vec\n",
            "Connecting to www.ccs.neu.edu (www.ccs.neu.edu)|52.70.229.197|:443... connected.\n",
            "HTTP request sent, awaiting response... 200 OK\n",
            "Length: 67802327 (65M)\n",
            "Saving to: ‘30k.fr.vec.1’\n",
            "\n",
            "30k.fr.vec.1        100%[===================>]  64.66M  14.2MB/s    in 5.8s    \n",
            "\n",
            "2022-04-15 19:06:05 (11.2 MB/s) - ‘30k.fr.vec.1’ saved [67802327/67802327]\n",
            "\n",
            "--2022-04-15 19:06:06--  http://www.ccs.neu.edu/home/dasmith/courses/cs6200/30k.de.vec\n",
            "Resolving www.ccs.neu.edu (www.ccs.neu.edu)... 52.70.229.197\n",
            "Connecting to www.ccs.neu.edu (www.ccs.neu.edu)|52.70.229.197|:80... connected.\n",
            "HTTP request sent, awaiting response... 301 Moved Permanently\n",
            "Location: https://www.ccs.neu.edu/home/dasmith/courses/cs6200/30k.de.vec [following]\n",
            "--2022-04-15 19:06:06--  https://www.ccs.neu.edu/home/dasmith/courses/cs6200/30k.de.vec\n",
            "Connecting to www.ccs.neu.edu (www.ccs.neu.edu)|52.70.229.197|:443... connected.\n",
            "HTTP request sent, awaiting response... 200 OK\n",
            "Length: 67798315 (65M)\n",
            "Saving to: ‘30k.de.vec.1’\n",
            "\n",
            "30k.de.vec.1        100%[===================>]  64.66M  13.5MB/s    in 6.0s    \n",
            "\n",
            "2022-04-15 19:06:13 (10.8 MB/s) - ‘30k.de.vec.1’ saved [67798315/67798315]\n",
            "\n"
          ]
        }
      ]
    },
    {
      "cell_type": "markdown",
      "metadata": {
        "id": "nmuIvGpNrJPe"
      },
      "source": [
        "We'll start by loading the word vectors from their textual file format to a dictionary mapping words to numpy arrays."
      ]
    },
    {
      "cell_type": "code",
      "metadata": {
        "id": "VbWORXkP2Vvn"
      },
      "source": [
        "def vecref(s):\n",
        "  (word, srec) = s.split(' ', 1)\n",
        "  return (word, np.fromstring(srec, sep=' '))\n",
        "\n",
        "def ftvectors(fname):\n",
        "  return { k:v for (k, v) in [vecref(s) for s in open(fname)] if len(v) > 1} \n",
        "\n",
        "envec = ftvectors('30k.en.vec')\n",
        "frvec = ftvectors('30k.fr.vec')\n",
        "\n",
        "# TODO: load vectors for one more language, such as zhvec (Chinese)\n",
        "# arvec = ftvectors('30k.ar.vec')\n",
        "devec = ftvectors('30k.de.vec')\n",
        "# ptvec = ftvectors('30k.pt.vec')\n",
        "# ruvec = ftvectors('30k.ru.vec')\n",
        "# esvec = ftvectors('30k.es.vec')\n",
        "# vivec = ftvectors('30k.vi.vec')\n",
        "# zhvec = ftvectors('30k.zh.vec')"
      ],
      "execution_count": 11,
      "outputs": []
    },
    {
      "cell_type": "markdown",
      "metadata": {
        "id": "j88E1JdueZHc"
      },
      "source": [
        "**TODO**: Your next task is to write a simple function that takes a vector and a dictionary of vectors and finds the most similar item in the dictionary. For this assignment, a linear scan through the dictionary using your `cosim` function from above is acceptible."
      ]
    },
    {
      "cell_type": "code",
      "metadata": {
        "id": "gmdirYOjoSWV",
        "colab": {
          "base_uri": "https://localhost:8080/"
        },
        "outputId": "cab22770-1a58-4c9f-8761-9d2da0f729d4"
      },
      "source": [
        "## TODO: implement this search function\n",
        "\n",
        "def mostSimilar(vec, vecDict):\n",
        "  ## Use your cosim function from above\n",
        "  mostSimilar = ''\n",
        "  similarity = 0\n",
        "  l = {}\n",
        "  for i in vecDict:\n",
        "    a = cosim(vec, vecDict[i])\n",
        "    l[i] = a\n",
        "  mostSimilar = max(l, key=l.get)\n",
        "  return (mostSimilar, l[mostSimilar])\n",
        "\n",
        "## some example searches\n",
        "\n",
        "[mostSimilar(envec[e], frvec) for e in ['computer', 'germany', 'matrix', 'physics', 'yeast']]"
      ],
      "execution_count": 16,
      "outputs": [
        {
          "output_type": "execute_result",
          "data": {
            "text/plain": [
              "[('informatique', 0.5023827767603765),\n",
              " ('allemagne', 0.593718413875964),\n",
              " ('matrice', 0.5088361302065517),\n",
              " ('physique', 0.4555543434796394),\n",
              " ('fermentation', 0.3504105196166514)]"
            ]
          },
          "metadata": {},
          "execution_count": 16
        }
      ]
    },
    {
      "cell_type": "markdown",
      "metadata": {
        "id": "NIKUD5qxpUMB"
      },
      "source": [
        "Some matches make more sense than others. Note that `computer` most closely matches `informatique`, the French term for *computer science*. If you looked further down the list, you would see `ordinateur`, the term for *computer*. This is one weakness of a focus only on embeddings for word *types* independent of context.\n",
        "\n",
        "To evalute cross-language embeddings more broadly, we'll look at a dataset of links between Wikipedia articles."
      ]
    },
    {
      "cell_type": "code",
      "metadata": {
        "id": "az10sIFwsEUP",
        "colab": {
          "base_uri": "https://localhost:8080/"
        },
        "outputId": "30f9e1c7-cbfd-401c-ce98-210fe447e139"
      },
      "source": [
        "!wget http://www.ccs.neu.edu/home/dasmith/courses/cs6200/links.tab\n",
        "links = [s.split() for s in open('links.tab')]"
      ],
      "execution_count": 18,
      "outputs": [
        {
          "output_type": "stream",
          "name": "stdout",
          "text": [
            "--2022-04-15 19:15:46--  http://www.ccs.neu.edu/home/dasmith/courses/cs6200/links.tab\n",
            "Resolving www.ccs.neu.edu (www.ccs.neu.edu)... 52.70.229.197\n",
            "Connecting to www.ccs.neu.edu (www.ccs.neu.edu)|52.70.229.197|:80... connected.\n",
            "HTTP request sent, awaiting response... 301 Moved Permanently\n",
            "Location: https://www.ccs.neu.edu/home/dasmith/courses/cs6200/links.tab [following]\n",
            "--2022-04-15 19:15:47--  https://www.ccs.neu.edu/home/dasmith/courses/cs6200/links.tab\n",
            "Connecting to www.ccs.neu.edu (www.ccs.neu.edu)|52.70.229.197|:443... connected.\n",
            "HTTP request sent, awaiting response... 200 OK\n",
            "Length: 1408915 (1.3M)\n",
            "Saving to: ‘links.tab’\n",
            "\n",
            "links.tab           100%[===================>]   1.34M  1.49MB/s    in 0.9s    \n",
            "\n",
            "2022-04-15 19:15:48 (1.49 MB/s) - ‘links.tab’ saved [1408915/1408915]\n",
            "\n"
          ]
        }
      ]
    },
    {
      "cell_type": "markdown",
      "metadata": {
        "id": "sqHq0hFCv8NY"
      },
      "source": [
        "This `links` variable consists of triples of `(English term, language, term in that language)`. For example, here is the link between English `academy` and French `académie`:"
      ]
    },
    {
      "cell_type": "code",
      "metadata": {
        "id": "RQ7eusdxtdsq",
        "colab": {
          "base_uri": "https://localhost:8080/"
        },
        "outputId": "330e4b7d-d0a5-468d-f8be-22dfe069b95c"
      },
      "source": [
        "links[302]"
      ],
      "execution_count": 19,
      "outputs": [
        {
          "output_type": "execute_result",
          "data": {
            "text/plain": [
              "['academy', 'fr', 'académie']"
            ]
          },
          "metadata": {},
          "execution_count": 19
        }
      ]
    },
    {
      "cell_type": "markdown",
      "metadata": {
        "id": "bYEdOQbmwql3"
      },
      "source": [
        "**TODO**: Evaluate the English and French embeddings by computing the proportion of English Wikipedia articles whose corresponding French article is also the closest word in embedding space. Skip English articles not covered by the word embedding dictionary. Since many articles, e.g., about named entities have the same title in English and French, compute the baseline accuracy achieved by simply echoing the English title as if it were French. Remember to iterate only over English Wikipedia articles, not the entire embedding dictionary."
      ]
    },
    {
      "cell_type": "code",
      "metadata": {
        "id": "RJrTJ3ja91Z4"
      },
      "source": [
        "## TODO: Compute English-French Wikipedia retrieval accuracy.\n",
        "\n",
        "accuracy = 0\n",
        "baselineAccuracy = 0\n",
        "l3 = 0\n",
        "for j in links:\n",
        "  b = envec[j[0]]\n",
        "  mostsimi = mostSimilar(b, frvec)\n",
        "  if mostsimi[0] == j[2]:\n",
        "    l3 += 1 \n",
        "print(l3)\n",
        "\n",
        "#Compute baseline accuracy\n",
        "\n",
        "l1 = 0\n",
        "l2 = 0\n",
        "for i in links:\n",
        "  if i[1] =='fr':\n",
        "    if i[0] == i[2]:\n",
        "      l2 += 1\n",
        "    l1 += 1\n",
        "baselineAccuracy = l2/l1"
      ],
      "execution_count": null,
      "outputs": []
    },
    {
      "cell_type": "markdown",
      "metadata": {
        "id": "7hqd1buq-OEo"
      },
      "source": [
        "**TODO**: Compute accuracy and baseline (identity function) acccuracy for Englsih and another language besides French. Although the baseline will be lower for languages not written in the Roman alphabet (i.e., Arabic or Chinese), there are still many articles in those languages with headwords written in Roman characters."
      ]
    },
    {
      "cell_type": "code",
      "metadata": {
        "id": "ZjnKtHya-jmj"
      },
      "source": [
        "## TODO: Compute English-X Wikipedia retrieval accuracy.\n",
        "\n",
        "accuracy = 0\n",
        "baselineAccuracy = 0\n",
        "\n",
        "l3 = 0\n",
        "for j in links:\n",
        "  b = envec[j[0]]\n",
        "  mostsimi = mostSimilar(b, devec)\n",
        "  if mostsimi[0] == j[2]:\n",
        "    l3 += 1 \n",
        "print(l3)\n",
        "\n",
        "#Compute baseline accuracy\n",
        "\n",
        "l1 = 0\n",
        "l2 = 0\n",
        "for i in links:\n",
        "  if i[1] =='de':\n",
        "    if i[0] == i[2]:\n",
        "      l2 += 1\n",
        "    l1 += 1\n",
        "baselineAccuracy = l2/l1"
      ],
      "execution_count": null,
      "outputs": []
    },
    {
      "cell_type": "code",
      "source": [
        "import operator \n",
        "x = {1: 2, 3: 4, 4: 3, 2: 1, 0: 0}\n",
        "sorted_x = sorted(x.items(), key=operator.itemgetter(0), reverse = True )\n"
      ],
      "metadata": {
        "id": "zE5tE8Nw9rnK"
      },
      "execution_count": null,
      "outputs": []
    },
    {
      "cell_type": "markdown",
      "metadata": {
        "id": "E6z01sufFPJh"
      },
      "source": [
        "**TODO**: Find the 10 nearest neighbors of each English term to compute \"recall at 10\" and \"mean reciprocal rank at 10\"."
      ]
    },
    {
      "cell_type": "code",
      "source": [
        "import operator\n",
        "def tenmostSimilar(vec, vecDict):\n",
        "  ## Use your cosim function from above\n",
        "  mostSimilar = ''\n",
        "  similarity = 0\n",
        "  l = {}\n",
        "  for i in vecDict:\n",
        "    a = cosim(vec, vecDict[i])\n",
        "    l[i] = a\n",
        "  sorted_x = sorted(l.items(), key=operator.itemgetter(1), reverse=True)\n",
        "  return sorted_x[:10]"
      ],
      "metadata": {
        "id": "LmF3O-vd9UNT"
      },
      "execution_count": null,
      "outputs": []
    },
    {
      "cell_type": "code",
      "source": [
        "## TODO: Compute recall@10 and MRR@10 when retrieving 10 nearest neighbors in French and some other language.\n",
        "\n",
        "for a, b, c in links:\n",
        "  listofsimilars = tenmostSimilar\n",
        "  count = 0 \n",
        "  for i in range(len(listofsimilars)):\n",
        "    if listofsimilars[i] == c:\n",
        "      count += 1 \n",
        "      MRR += 1/(i+1)\n",
        "recall = count/len(links)\n",
        "MRR = MRR/len(links)"
      ],
      "metadata": {
        "id": "TgAORWTQl0Sl"
      },
      "execution_count": null,
      "outputs": []
    },
    {
      "cell_type": "markdown",
      "source": [
        "The list of Wikipedia headwords is short enough that a linear scan through the non-English language embeddings takes some time but is feasible. In a production system, you could index the word embeddings using SimHash or some other locality sensitive hashing scheme, as we discussed for duplicate detection, to speed up this process."
      ],
      "metadata": {
        "id": "GsXoZaVsYMXR"
      }
    }
  ]
}